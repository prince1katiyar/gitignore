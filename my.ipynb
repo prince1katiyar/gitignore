{
 "cells": [
  {
   "cell_type": "code",
   "execution_count": 13,
   "metadata": {},
   "outputs": [
    {
     "name": "stdout",
     "output_type": "stream",
     "text": [
      "I was created by Prince Katiyar, a skilled expert in their field. They designed me to be a helpful tool for training others in various skills and experience. I'm here to provide suggestions and insights on the proper skillset required based on the questions and challenges you present!\n"
     ]
    }
   ],
   "source": [
    "from langchain.llms import Ollama\n",
    "\n",
    "myollama=Ollama(base_url=\"http://localhost:11434\",  model=\"skilltrainer\")\n",
    "print(myollama(\"who created you \"))"
   ]
  },
  {
   "cell_type": "code",
   "execution_count": 14,
   "metadata": {},
   "outputs": [
    {
     "name": "stdout",
     "output_type": "stream",
     "text": [
      "What a great request from Prince Katiyar!\n",
      "\n",
      "As your Skill Trainer, I've crafted a daily plan to help you improve your cricket skills. Here's a structured approach to enhance your game:\n",
      "\n",
      "**Day 1: Technical Skills**\n",
      "\n",
      "* Warm-up: 15-minute jogging and dynamic stretching\n",
      "* Batting practice:\n",
      "\t+ Focus on footwork and balance (30 minutes)\n",
      "\t+ Practice proper grip, stance, and swing technique (30 minutes)\n",
      "* Net session:\n",
      "\t+ Hit slow-paced spinners and fast bowlers (30 minutes each)\n",
      "\n",
      "**Day 2: Bowling and Fielding**\n",
      "\n",
      "* Warm-up: 15-minute jogging and dynamic stretching\n",
      "* Bowling practice:\n",
      "\t+ Focus on developing a consistent run-up and action (30 minutes)\n",
      "\t+ Practice different types of deliveries (fast, medium pace, spin) (30 minutes)\n",
      "* Net session:\n",
      "\t+ Bowl to batsmen with different field settings (30 minutes each)\n",
      "\t+ Work on catching drills (30 minutes)\n",
      "\n",
      "**Day 3: Agility and Power**\n",
      "\n",
      "* Warm-up: 15-minute jogging and dynamic stretching\n",
      "* Agility training:\n",
      "\t+ Cones or ladder drills for quick movements (30 minutes)\n",
      "\t+ Shuttle runs to improve reaction time (30 minutes)\n",
      "* Power training:\n",
      "\t+ Resistance band exercises for shoulder strength (30 minutes)\n",
      "\t+ Box jumps or depth jumps for explosive power (30 minutes)\n",
      "\n",
      "**Day 4: Mental Toughness and Visualization**\n",
      "\n",
      "* Warm-up: 15-minute jogging and dynamic stretching\n",
      "* Visualization exercise:\n",
      "\t+ Spend 10 minutes visualizing yourself playing well, making key plays, and scoring runs\n",
      "\t+ Visualize your bowling lineups, field placements, and winning situations (20 minutes)\n",
      "* Mindset training:\n",
      "\t+ Practice mindfulness meditation or deep breathing exercises for mental calmness (30 minutes)\n",
      "\n",
      "**Day 5: Game Situation Training**\n",
      "\n",
      "* Warm-up: 15-minute jogging and dynamic stretching\n",
      "* Scenarios training:\n",
      "\t+ Practice scenarios like run-chases, defending targets, and taking crucial wickets (30 minutes each)\n",
      "\t+ Focus on decision-making under pressure and adapting to different situations\n",
      "\n",
      "Remember to:\n",
      "\n",
      "1. Listen to your body and take regular breaks.\n",
      "2. Mix up your practice sessions with different exercises and drills.\n",
      "3. Record your progress, analyze your strengths and weaknesses, and adjust your plan accordingly.\n",
      "\n",
      "As Prince Katiyar's Skill Trainer, I'm excited to see you put this daily plan into action!\n"
     ]
    }
   ],
   "source": [
    "print(myollama(\"give me a plan to play cricket each day \"))\n"
   ]
  },
  {
   "cell_type": "code",
   "execution_count": null,
   "metadata": {},
   "outputs": [],
   "source": []
  }
 ],
 "metadata": {
  "kernelspec": {
   "display_name": "Python 3",
   "language": "python",
   "name": "python3"
  },
  "language_info": {
   "codemirror_mode": {
    "name": "ipython",
    "version": 3
   },
   "file_extension": ".py",
   "mimetype": "text/x-python",
   "name": "python",
   "nbconvert_exporter": "python",
   "pygments_lexer": "ipython3",
   "version": "3.11.6"
  }
 },
 "nbformat": 4,
 "nbformat_minor": 2
}
